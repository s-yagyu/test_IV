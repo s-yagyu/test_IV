{
 "cells": [
  {
   "cell_type": "markdown",
   "metadata": {},
   "source": [
    "20240620 version\n",
    "\n",
    "### 測定データの可視化 テンプレート\n",
    "\n",
    "1. ファイルが入っているフォルダーを指定\n",
    "2. ファイルを読み込んでデータの選別\n",
    "3. データの可視化\n"
   ]
  },
  {
   "cell_type": "code",
   "execution_count": 1,
   "metadata": {},
   "outputs": [],
   "source": [
    "import datetime\n",
    "import os\n",
    "from pathlib import Path\n",
    "\n",
    "import pandas as pd\n",
    "import numpy as np\n",
    "import matplotlib.pyplot as plt\n",
    "\n",
    "import warnings\n",
    "warnings.simplefilter('ignore')\n",
    "# warnings.resetwarnings()\n",
    "# warnings.simplefilter('ignore', FutureWarning)\n",
    "\n",
    "# このモジュールで処理が行われる\n",
    "from ivlib import IV_reader as ivr\n",
    "\n",
    "%load_ext autoreload\n",
    "%autoreload 2"
   ]
  },
  {
   "cell_type": "code",
   "execution_count": 2,
   "metadata": {},
   "outputs": [],
   "source": [
    "# 読み込みたいフォルダーを絶対パスで指定する\n",
    "# その際, r\" \"としてrを書く。このrはRawの略 特にWindowsでパスを書くときは必要\n",
    "\n",
    "# all_files=[r\"C:\\........\\IGB97\", \n",
    "#            r\"C:\\........\\IGB98\"]\n",
    "\n",
    "#　List形で書いてください。  \n",
    "all_files=[]"
   ]
  },
  {
   "cell_type": "code",
   "execution_count": null,
   "metadata": {},
   "outputs": [],
   "source": [
    "# ファイルフォルダーを指定してデータを読み込みます。\n",
    "igb = ivr.IVReader(all_files[0])\n",
    "\n",
    "# 読み込んだファイルフォルダーの確認\n",
    "igb.file_folder"
   ]
  },
  {
   "cell_type": "code",
   "execution_count": null,
   "metadata": {},
   "outputs": [],
   "source": [
    "# データを読み込んでデータの選別を行います。\n",
    "# All：すべてのデータ、Contact：オーミックなふるまいのデータ、Noise:ノイズだけのデータ、Select:Contact,Noise以外のデータ\n",
    "igb.read_file()"
   ]
  },
  {
   "cell_type": "code",
   "execution_count": null,
   "metadata": {},
   "outputs": [],
   "source": [
    "igb.one_fig_plots(all_or_select='all',save=False) # all --> 'all' select --> 'select'\n",
    "\n",
    "# 1つ１つのグラフとして表示する場合は以下のメソッドを利用（後でコピーペーストで再利用しやすい）\n",
    "# igb118.each_plots(all_or_select='select')"
   ]
  },
  {
   "cell_type": "code",
   "execution_count": null,
   "metadata": {},
   "outputs": [],
   "source": [
    "# 解析対象のデータを見る\n",
    "# Selectデータのindex=5のデータ\n",
    "# (-5V -> 5V,5V -> -5V)の連続データが入っている\n",
    "# dfa -> -5V-->0V-->5V,\n",
    "# dfb-> 5V-->0V-->-5V\n",
    "\n",
    "dfa,dfb = igb.focuse_data('select', index=5)"
   ]
  },
  {
   "cell_type": "code",
   "execution_count": null,
   "metadata": {},
   "outputs": [],
   "source": []
  },
  {
   "cell_type": "code",
   "execution_count": null,
   "metadata": {},
   "outputs": [],
   "source": [
    "# Classを使わない場合"
   ]
  },
  {
   "cell_type": "code",
   "execution_count": null,
   "metadata": {},
   "outputs": [],
   "source": [
    "# ファイルを日付順にソートする\n",
    "# igb_files = ivr.get_IV_files_sort(file_path = all_files[7])\n",
    "# igb_files "
   ]
  },
  {
   "cell_type": "code",
   "execution_count": null,
   "metadata": {},
   "outputs": [],
   "source": [
    "# ファイルを読み込んで、条件によってグループ分けする。\n",
    "igb_files = ivr.get_IV_files_sort(file_path = all_files[0])\n",
    "all_data_dict, select_dict, index_dict=ivr.read_select(igb_files, \n",
    "                                                      sig=1, \n",
    "                                                      info=True, \n",
    "                                                      plot=False)"
   ]
  },
  {
   "cell_type": "code",
   "execution_count": null,
   "metadata": {},
   "outputs": [],
   "source": [
    "# すべてのデータをプロット\n",
    "# 1つのFigureとして表示\n",
    "ivr.df_multi_3plots(df_lists=all_data_dict[\"df\"], \n",
    "                    name_lists=all_data_dict[\"fname\"], \n",
    "                    comment_lists=all_data_dict[\"judge\"], \n",
    "                    sig=1, separator=5, save=False)"
   ]
  },
  {
   "cell_type": "code",
   "execution_count": null,
   "metadata": {},
   "outputs": [],
   "source": [
    "# すべてのデータをプロット\n",
    "# 1つ１つのグラフとして表示（後でコピーペーストで再利用しやすい）\n",
    "ivr.df_3plots(df_lists=all_data_dict[\"df\"],\n",
    "                name_lists=all_data_dict[\"fname\"], \n",
    "                comment_lists=all_data_dict[\"judge\"])"
   ]
  },
  {
   "cell_type": "code",
   "execution_count": null,
   "metadata": {},
   "outputs": [],
   "source": [
    "# 解析対象データをプロット\n",
    "# 1つのFigureとして表示\n",
    "ivr.df_multi_3plots(df_lists=select_dict[\"df\"], \n",
    "                    name_lists=select_dict[\"fname\"], \n",
    "                    comment_lists=None, sig=1,\n",
    "                    separator=5, save=False )"
   ]
  }
 ],
 "metadata": {
  "kernelspec": {
   "display_name": "Python 3.7.1 ('base')",
   "language": "python",
   "name": "python3"
  },
  "language_info": {
   "codemirror_mode": {
    "name": "ipython",
    "version": 3
   },
   "file_extension": ".py",
   "mimetype": "text/x-python",
   "name": "python",
   "nbconvert_exporter": "python",
   "pygments_lexer": "ipython3",
   "version": "3.10.13"
  },
  "orig_nbformat": 4,
  "vscode": {
   "interpreter": {
    "hash": "b66da06cecefeedcb0375b3971526220e456f8615e08c7fc3d59ab7f27c37be5"
   }
  }
 },
 "nbformat": 4,
 "nbformat_minor": 2
}

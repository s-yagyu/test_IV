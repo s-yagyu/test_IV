{
 "cells": [
  {
   "cell_type": "markdown",
   "metadata": {},
   "source": [
    "20240620 version\n",
    "\n",
    "### 測定データの可視化 + Schottky fitting\n",
    "\n",
    "1. ファイルが入っているフォルダーを指定\n",
    "2. ファイルを読み込んでデータの選別\n",
    "3. データの可視化\n",
    "4. 対象となるデータを可視化して、解析領域（x軸の値を指定）を手動で決める\n",
    "5. Schottky moduleを使ってFitting\n"
   ]
  },
  {
   "cell_type": "code",
   "execution_count": null,
   "metadata": {},
   "outputs": [],
   "source": [
    "import datetime\n",
    "import os\n",
    "from pathlib import Path\n",
    "\n",
    "import pandas as pd\n",
    "import numpy as np\n",
    "import matplotlib.pyplot as plt\n",
    "\n",
    "import warnings\n",
    "warnings.simplefilter('ignore')\n",
    "# warnings.resetwarnings()\n",
    "# warnings.simplefilter('ignore', FutureWarning)\n",
    "\n",
    "# このモジュールで処理が行われる\n",
    "from ivlib import IV_reader as ivr\n",
    "from ivlib import schottky as stk\n",
    "\n",
    "%load_ext autoreload\n",
    "%autoreload 2"
   ]
  },
  {
   "cell_type": "code",
   "execution_count": null,
   "metadata": {},
   "outputs": [],
   "source": [
    "# 読み込みたいフォルダーを絶対パスで指定する\n",
    "# その際, r\" \"としてrを書く。このrはRawの略 特にWindowsでパスを書くときは必要\n",
    "\n",
    "# all_files=[r\"C:\\........\\IGB97\", \n",
    "#            r\"C:\\........\\IGB98\"]\n",
    "\n",
    "#　List形で書いてください。  \n",
    "all_files=[]"
   ]
  },
  {
   "cell_type": "code",
   "execution_count": null,
   "metadata": {},
   "outputs": [],
   "source": [
    "# ファイルフォルダーを指定してデータを読み込みます。\n",
    "igb = ivr.IVReader(all_files[0])\n",
    "\n",
    "# 読み込んだファイルフォルダーの確認\n",
    "igb.file_folder"
   ]
  },
  {
   "cell_type": "code",
   "execution_count": null,
   "metadata": {},
   "outputs": [],
   "source": [
    "# データを読み込んでデータの選別を行います。\n",
    "# All：すべてのデータ、Contact：オーミックなふるまいのデータ、Noise:ノイズだけのデータ、Select:Contact,Noise以外のデータ\n",
    "igb.read_file()"
   ]
  },
  {
   "cell_type": "code",
   "execution_count": null,
   "metadata": {},
   "outputs": [],
   "source": [
    "igb.one_fig_plots(all_or_select='all',save=False) # all --> 'all' select --> 'select'\n",
    "\n",
    "# 1つ１つのグラフとして表示する場合は以下のメソッドを利用（後でコピーペーストで再利用しやすい）\n",
    "# igb.each_plots(all_or_select='select')"
   ]
  },
  {
   "cell_type": "code",
   "execution_count": null,
   "metadata": {},
   "outputs": [],
   "source": [
    "# 解析対象のデータを見る\n",
    "# SelectデータのIndex=5のデータ\n",
    "# (-5V -> 5V,5V -> -5V)の連続データが入っている\n",
    "# dfa -> -5V-->0V-->5V,\n",
    "# dfb-> 5V-->0V-->-5V\n",
    "\n",
    "dfa,dfb = igb.focuse_data('select', index=5)"
   ]
  },
  {
   "cell_type": "code",
   "execution_count": null,
   "metadata": {},
   "outputs": [],
   "source": [
    "# これ以降Schottky解析\n",
    "# from ivlib import schottky as stk\n",
    "\n",
    "# 電極サイズを指定\n",
    "A_eff=7.85e-5\n",
    "\n",
    "# グラフから解析範囲を切り出します。（x軸の値を指定する）\n",
    "xf2,yf2 = stk.select_xarray(dfa['V1'].values,dfa['I1'].values,xmin=1.5,xmax=3.0)\n",
    "\n",
    "# 必要があれば電極サイズで割ってJ [A/cm2]に変換\n",
    "yf2 = yf2/A_eff\n",
    "\n",
    "res = stk.analysis_all(V=xf2, J=yf2, A_eff=A_eff, AS=36, T=300, plot=True)"
   ]
  }
 ],
 "metadata": {
  "kernelspec": {
   "display_name": "Python 3.7.1 ('base')",
   "language": "python",
   "name": "python3"
  },
  "language_info": {
   "codemirror_mode": {
    "name": "ipython",
    "version": 3
   },
   "file_extension": ".py",
   "mimetype": "text/x-python",
   "name": "python",
   "nbconvert_exporter": "python",
   "pygments_lexer": "ipython3",
   "version": "3.10.13"
  },
  "orig_nbformat": 4,
  "vscode": {
   "interpreter": {
    "hash": "b66da06cecefeedcb0375b3971526220e456f8615e08c7fc3d59ab7f27c37be5"
   }
  }
 },
 "nbformat": 4,
 "nbformat_minor": 2
}
